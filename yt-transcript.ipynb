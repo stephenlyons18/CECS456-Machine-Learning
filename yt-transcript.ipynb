{
 "cells": [
  {
   "cell_type": "code",
   "execution_count": null,
   "metadata": {},
   "outputs": [],
   "source": [
    "# !pip3 install youtube_dl\n",
    "# !pip install git+https://github.com/openai/whisper.git\n",
    "# !pip3 install setuptools-rust\n",
    "# !apt -y install ffmpeg"
   ]
  },
  {
   "cell_type": "code",
   "execution_count": null,
   "metadata": {},
   "outputs": [],
   "source": [
    "from __future__ import unicode_literals\n",
    "import youtube_dl\n",
    "import whisper\n",
    "import warnings\n",
    "warnings.filterwarnings(\"ignore\")\n",
    "\n",
    "# Download the video\n",
    "ydl_opts = {\n",
    "    'format': 'bestaudio/best',\n",
    "    'outtmpl': 'video.%(ext)s',\n",
    "    'postprocessors': [{\n",
    "        'key': 'FFmpegExtractAudio',\n",
    "        'preferredcodec': 'wav',\n",
    "        'preferredquality': '192',\n",
    "    }],\n",
    "}\n",
    "link = input(\"Enter the link of the video: \")\n",
    "\n",
    "# get the title of the video\n",
    "with youtube_dl.YoutubeDL({'outtmpl': '%(id)s%(ext)s'}) as ydl:\n",
    "    info_dict = ydl.extract_info(link, download=False)\n",
    "    video_title = info_dict.get('title', None)"
   ]
  },
  {
   "cell_type": "code",
   "execution_count": null,
   "metadata": {},
   "outputs": [],
   "source": [
    "\n",
    "    \n",
    "with youtube_dl.YoutubeDL(ydl_opts) as ydl:\n",
    "    ydl.download([link])\n",
    "\n"
   ]
  },
  {
   "cell_type": "code",
   "execution_count": null,
   "metadata": {},
   "outputs": [],
   "source": [
    "# model\n",
    "model = whisper.load_model(\"base\")\n",
    "\n",
    "\n",
    "# Transcribe the video into english text\n",
    "transcript = model.transcribe(\"./video.wav\")\n",
    "\n",
    "# Print the transcript\n",
    "print(transcript)"
   ]
  },
  {
   "cell_type": "code",
   "execution_count": 8,
   "metadata": {},
   "outputs": [],
   "source": [
    "# save the transcript of the video in a text file with the name of the video\n",
    "with open(video_title + \".txt\", \"w\") as text_file:\n",
    "    text_file.write(transcript['text'])\n",
    "\n",
    "\n",
    "# delete the downloaded video file\n",
    "import os\n",
    "os.remove(\"video.wav\")\n"
   ]
  }
 ],
 "metadata": {
  "kernelspec": {
   "display_name": "Python 3.8.10 ('env': venv)",
   "language": "python",
   "name": "python3"
  },
  "language_info": {
   "codemirror_mode": {
    "name": "ipython",
    "version": 3
   },
   "file_extension": ".py",
   "mimetype": "text/x-python",
   "name": "python",
   "nbconvert_exporter": "python",
   "pygments_lexer": "ipython3",
   "version": "3.8.10"
  },
  "orig_nbformat": 4,
  "vscode": {
   "interpreter": {
    "hash": "a6a5baf589a6c7f20b47563e104fd30a05f38fd0d06c03555a155522308c7093"
   }
  }
 },
 "nbformat": 4,
 "nbformat_minor": 2
}
